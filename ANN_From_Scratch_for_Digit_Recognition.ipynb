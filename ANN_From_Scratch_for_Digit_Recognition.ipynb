{
  "nbformat": 4,
  "nbformat_minor": 0,
  "metadata": {
    "colab": {
      "name": "ANN  From Scratch for Digit Recognition.ipynb",
      "provenance": [],
      "collapsed_sections": [],
      "authorship_tag": "ABX9TyMkeNZOVUhioKJ7ViKUOl6R",
      "include_colab_link": true
    },
    "kernelspec": {
      "name": "python3",
      "display_name": "Python 3"
    },
    "language_info": {
      "name": "python"
    }
  },
  "cells": [
    {
      "cell_type": "markdown",
      "metadata": {
        "id": "view-in-github",
        "colab_type": "text"
      },
      "source": [
        "<a href=\"https://colab.research.google.com/github/idonithid/ANN-From-Scratch-for-Digit-Recognition/blob/main/ANN_From_Scratch_for_Digit_Recognition.ipynb\" target=\"_parent\"><img src=\"https://colab.research.google.com/assets/colab-badge.svg\" alt=\"Open In Colab\"/></a>"
      ]
    },
    {
      "cell_type": "code",
      "source": [
        "import random\n",
        "import numpy as np\n",
        "from numpy import asarray\n",
        "from numpy import savetxt\n",
        "from matplotlib import pyplot as plt\n",
        "import pandas as pd\n",
        "import time\n"
      ],
      "metadata": {
        "id": "uSnZmIs9FkRk"
      },
      "execution_count": 79,
      "outputs": []
    },
    {
      "cell_type": "markdown",
      "source": [
        "**Creating the network and its functions**"
      ],
      "metadata": {
        "id": "LWsh4qhnGqj-"
      }
    },
    {
      "cell_type": "code",
      "execution_count": 86,
      "metadata": {
        "id": "YwwNTx4ZxkjI"
      },
      "outputs": [],
      "source": [
        "class NeuralNetwork:\n",
        "\n",
        "    def __init__(self,layer_sizes):\n",
        "        # initializing network parameters\n",
        "        weight_shapes = [(a,b) for a,b in zip(layer_sizes[1:],layer_sizes[:-1])]\n",
        "        self.weights = [np.random.randn(s,s_1) for s,s_1 in zip(layer_sizes[:-1],layer_sizes[1:])]\n",
        "        self.biases = [np.random.randn(s,1) for s in layer_sizes[1:]]\n",
        "        self.num_layers = len(layer_sizes)\n",
        "\n",
        "    def predict(self, a):\n",
        "        # Predict number for given image\n",
        "        for w,b in zip(self.weights,self.biases):\n",
        "            a = sigmoid(np.dot(w.T,a)+b)\n",
        "        return np.argmax(a)\n",
        "\n",
        "    def get_accuracy(self,x,y):\n",
        "        # Calculate Networks precision\n",
        "        num_of_test = len(x)\n",
        "        cnt = 0\n",
        "        for i in range(len(x)):\n",
        "            if self.predict(x[i]) == np.argmax(y[i]):\n",
        "                cnt += 1\n",
        "        precentage =\"{:.1%}\".format(cnt/num_of_test)\n",
        "        return precentage\n",
        "\n",
        "   \n",
        "    def backprop(self,x,y):\n",
        "        # calculate derivative of loss function given one image - backpropagation algorithm\n",
        "        dB = [np.zeros(b.shape) for b in self.biases]\n",
        "        dW = [np.zeros(w.shape) for w in self.weights]\n",
        "        Z = []\n",
        "        A = [x]\n",
        "        H = self.num_layers\n",
        "        activation = x\n",
        "        for w,b in zip(self.weights,self.biases):\n",
        "            z = np.dot(w.T,activation)+ b\n",
        "            Z.append(z)\n",
        "            activation = sigmoid(z)\n",
        "            A.append(activation)\n",
        "\n",
        "        delta = (A[-1]-y)*sigmoid_derivative(Z[-1])\n",
        "        dB[-1] = delta\n",
        "        dW[-1] = np.dot(A[-2],delta.T)\n",
        "        for i in range(2,H):\n",
        "            delta = sigmoid_derivative(Z[-i])*(np.dot(self.weights[-i+1],delta))\n",
        "            dB[-i] = delta\n",
        "            dW[-i] = np.dot(A[-i-1],delta.T)\n",
        "        return (dW,dB)\n",
        "\n",
        "    def GD(self,mini_batch,gamma):\n",
        "        #Gradient descent\n",
        "        dB = [np.zeros(b.shape) for b in self.biases]\n",
        "        dW = [np.zeros(w.shape) for w in self.weights]\n",
        "        k = len(mini_batch)\n",
        "        for x,y in mini_batch:\n",
        "            (partial_w, partial_b) = self.backprop(x,y)\n",
        "            dB = [db + b for db, b in zip(dB,partial_b)]\n",
        "            dW = [dw + w for dw, w in zip(dW, partial_w)]\n",
        "        for i in range(self.num_layers-1):\n",
        "            self.weights[i] = self.weights[i] -(gamma / k)*dW[i]\n",
        "            self.biases[i] = self.biases[i] - (gamma / k)*dB[i]\n",
        "\n",
        "\n",
        "    def train(self,x,y,epochs,gamma,mini_batch_size):\n",
        "        #calculate weights ans biases while minimize the loss function\n",
        "        training_data = [(a,b) for a,b in zip(x,y)]\n",
        "        n = len(training_data)\n",
        "        training_data = np.array(training_data,dtype=\"object\")\n",
        "        training_data = training_data.reshape((50000, 2))\n",
        "        training_data = np.split(training_data, mini_batch_size)\n",
        "        old_gamma = gamma\n",
        "        for i in range(epochs):\n",
        "            for mini_batch in training_data:\n",
        "                self.GD(mini_batch, gamma)\n",
        "                gamma = gamma/1.001\n",
        "            gamma = old_gamma\n",
        "            b=self.get_accuracy(x, y)\n",
        "            if b >0.95:   #stop to not overfit\n",
        "                return self.weights, self.biases\n",
        "        return self.weights, self.biases\n",
        "\n",
        "\n",
        "def sigmoid(x):\n",
        "    a,b = x.shape\n",
        "    x = x.reshape(max(a,b),min(a,b))\n",
        "    h = np.zeros((max(a,b),min(a,b)))\n",
        "    for i in range(max(a,b)):\n",
        "        sig = 1.0 / (1.0 + np.exp(-x[i][0]))  # Define sigmoid function\n",
        "        sig = np.minimum(sig, 0.9999)  # Set upper bound\n",
        "        sig = np.maximum(sig, 0.0001)  # Set lower bound\n",
        "        h[i][0] = sig\n",
        "    return h\n",
        "\n",
        "def sigmoid_derivative(x):\n",
        "    a,b = x.shape\n",
        "    x = x.reshape(max(a,b),min(a,b))\n",
        "    h_1 = np.ones((max(a,b),min(a,b)))\n",
        "    h = sigmoid(x)*(h_1-sigmoid(x))\n",
        "    return h\n"
      ]
    },
    {
      "cell_type": "markdown",
      "source": [
        "**Import the data and train the network**\n",
        "\n",
        "\n",
        "\n"
      ],
      "metadata": {
        "id": "b7LWn8LTGdHl"
      }
    },
    {
      "cell_type": "code",
      "source": [
        "\n",
        "with np.load('mnist.npz') as data:\n",
        "\ttraining_images = data['training_images']\n",
        "\ttraining_labels = data['training_labels']\n",
        "\ttest_images = data['test_images']\n",
        "\ttest_lables = data['test_labels']\n",
        "\n",
        "\n",
        "#init a Network\n",
        "layer_sizes = (784,16,16,10)\n",
        "net = NeuralNetwork(layer_sizes)\n",
        "# train\n",
        "w,b = net.train(training_images,training_labels,50,5,100)\n",
        "#saving our updated weights and biases\n",
        "savetxt('weights_0.csv', net.weights[0], delimiter=',')\n",
        "savetxt('biases_0.csv', net.biases[0], delimiter=',')\n",
        "savetxt('weights_1.csv', net.weights[1], delimiter=',')\n",
        "savetxt('biases_1.csv', net.biases[1], delimiter=',')\n",
        "savetxt('weights_2.csv', net.weights[2], delimiter=',')\n",
        "savetxt('biases_2.csv', net.biases[2], delimiter=',')"
      ],
      "metadata": {
        "id": "nCvBjsiryLnc"
      },
      "execution_count": 44,
      "outputs": []
    },
    {
      "cell_type": "markdown",
      "source": [
        "**Test the network**\n",
        "\n"
      ],
      "metadata": {
        "id": "YsJ0APLkIjz1"
      }
    },
    {
      "cell_type": "code",
      "source": [
        "# update_network_weights_and_biases_after_train\n",
        "\n",
        "net.weights[0] = np.genfromtxt('weights_0.csv', delimiter=',').reshape((784,16))\n",
        "net.weights[1] = np.genfromtxt('weights_1.csv', delimiter=',').reshape((16,16))\n",
        "net.weights[2] = np.genfromtxt('weights_2.csv', delimiter=',').reshape((16,10))\n",
        "net.biases[0] = np.genfromtxt('biases_0.csv', delimiter=',').reshape((16,1))\n",
        "net.biases[1] = np.genfromtxt('biases_1.csv', delimiter=',').reshape((16,1))\n",
        "net.biases[2] = np.genfromtxt('biases_2.csv', delimiter=',').reshape((10,1))\n",
        "\n",
        "accuracy = net.get_accuracy(test_images,test_lables)\n",
        "print(\"The accuracy of your network is:\", accuracy)\n",
        "\n",
        "\n",
        "def test_prediction(index,Network):\n",
        "    current_image = test_images[index]\n",
        "    prediction = Network.predict(current_image)\n",
        "    label = np.argmax(test_lables[index])\n",
        "    print(\"Prediction: \", prediction)\n",
        "    print(\"Label: \", label)\n",
        "    current_image = current_image.reshape((28, 28)) * 255\n",
        "    plt.gray()\n",
        "    plt.imshow(current_image, interpolation='nearest')\n",
        "    plt.show()\n",
        "\n",
        "n = len(test_images)\n",
        "print('Now we will see examples:')\n",
        "\n",
        "for i in range(1,25):\n",
        "  print('image number:', i)\n",
        "  test_prediction(i,net)\n"
      ],
      "metadata": {
        "colab": {
          "base_uri": "https://localhost:8080/",
          "height": 1000
        },
        "id": "0rAPJx1nI4Vq",
        "outputId": "34c38637-904f-4edd-f18b-54a285b0e612"
      },
      "execution_count": 88,
      "outputs": [
        {
          "output_type": "stream",
          "name": "stdout",
          "text": [
            "The accuracy of your network is: 91.6%\n",
            "Now we will see examples:\n",
            "image number: 1\n",
            "Prediction:  2\n",
            "Label:  2\n"
          ]
        },
        {
          "output_type": "display_data",
          "data": {
            "image/png": "[encoded data removed]",
            "text/plain": [
              "<Figure size 432x288 with 1 Axes>"
            ]
          },
          "metadata": {
            "needs_background": "light"
          }
        },
        {
          "output_type": "stream",
          "name": "stdout",
          "text": [
            "image number: 2\n",
            "Prediction:  1\n",
            "Label:  1\n"
          ]
        },
        {
          "output_type": "display_data",
          "data": {
            "image/png": "[encoded data removed]",
            "text/plain": [
              "<Figure size 432x288 with 1 Axes>"
            ]
          },
          "metadata": {
            "needs_background": "light"
          }
        },
        {
          "output_type": "stream",
          "name": "stdout",
          "text": [
            "image number: 3\n",
            "Prediction:  0\n",
            "Label:  0\n"
          ]
        },
        {
          "output_type": "display_data",
          "data": {
            "image/png": "[encoded data removed]",
            "text/plain": [
              "<Figure size 432x288 with 1 Axes>"
            ]
          },
          "metadata": {
            "needs_background": "light"
          }
        },
        {
          "output_type": "stream",
          "name": "stdout",
          "text": [
            "image number: 4\n",
            "Prediction:  4\n",
            "Label:  4\n"
          ]
        },
        {
          "output_type": "display_data",
          "data": {
            "image/png": "[encoded data removed]",
            "text/plain": [
              "<Figure size 432x288 with 1 Axes>"
            ]
          },
          "metadata": {
            "needs_background": "light"
          }
        },
        {
          "output_type": "stream",
          "name": "stdout",
          "text": [
            "image number: 5\n",
            "Prediction:  1\n",
            "Label:  1\n"
          ]
        },
        {
          "output_type": "display_data",
          "data": {
            "image/png": "[encoded data removed]",
            "text/plain": [
              "<Figure size 432x288 with 1 Axes>"
            ]
          },
          "metadata": {
            "needs_background": "light"
          }
        },
        {
          "output_type": "stream",
          "name": "stdout",
          "text": [
            "image number: 6\n",
            "Prediction:  4\n",
            "Label:  4\n"
          ]
        },
        {
          "output_type": "display_data",
          "data": {
            "image/png": "[encoded data removed]",
            "text/plain": [
              "<Figure size 432x288 with 1 Axes>"
            ]
          },
          "metadata": {
            "needs_background": "light"
          }
        },
        {
          "output_type": "stream",
          "name": "stdout",
          "text": [
            "image number: 7\n",
            "Prediction:  9\n",
            "Label:  9\n"
          ]
        },
        {
          "output_type": "display_data",
          "data": {
            "image/png": "[encoded data removed]",
            "text/plain": [
              "<Figure size 432x288 with 1 Axes>"
            ]
          },
          "metadata": {
            "needs_background": "light"
          }
        },
        {
          "output_type": "stream",
          "name": "stdout",
          "text": [
            "image number: 8\n",
            "Prediction:  4\n",
            "Label:  5\n"
          ]
        },
        {
          "output_type": "display_data",
          "data": {
            "image/png": "[encoded data removed]",
            "text/plain": [
              "<Figure size 432x288 with 1 Axes>"
            ]
          },
          "metadata": {
            "needs_background": "light"
          }
        },
        {
          "output_type": "stream",
          "name": "stdout",
          "text": [
            "image number: 9\n",
            "Prediction:  9\n",
            "Label:  9\n"
          ]
        },
        {
          "output_type": "display_data",
          "data": {
            "image/png": "[encoded data removed]",
            "text/plain": [
              "<Figure size 432x288 with 1 Axes>"
            ]
          },
          "metadata": {
            "needs_background": "light"
          }
        },
        {
          "output_type": "stream",
          "name": "stdout",
          "text": [
            "image number: 10\n",
            "Prediction:  0\n",
            "Label:  0\n"
          ]
        },
        {
          "output_type": "display_data",
          "data": {
            "image/png": "[encoded data removed]",
            "text/plain": [
              "<Figure size 432x288 with 1 Axes>"
            ]
          },
          "metadata": {
            "needs_background": "light"
          }
        },
        {
          "output_type": "stream",
          "name": "stdout",
          "text": [
            "image number: 11\n",
            "Prediction:  6\n",
            "Label:  6\n"
          ]
        },
        {
          "output_type": "display_data",
          "data": {
            "image/png": "[encoded data removed]",
            "text/plain": [
              "<Figure size 432x288 with 1 Axes>"
            ]
          },
          "metadata": {
            "needs_background": "light"
          }
        },
        {
          "output_type": "stream",
          "name": "stdout",
          "text": [
            "image number: 12\n",
            "Prediction:  9\n",
            "Label:  9\n"
          ]
        },
        {
          "output_type": "display_data",
          "data": {
            "image/png": "[encoded data removed]",
            "text/plain": [
              "<Figure size 432x288 with 1 Axes>"
            ]
          },
          "metadata": {
            "needs_background": "light"
          }
        },
        {
          "output_type": "stream",
          "name": "stdout",
          "text": [
            "image number: 13\n",
            "Prediction:  0\n",
            "Label:  0\n"
          ]
        },
        {
          "output_type": "display_data",
          "data": {
            "image/png": "[encoded data removed]",
            "text/plain": [
              "<Figure size 432x288 with 1 Axes>"
            ]
          },
          "metadata": {
            "needs_background": "light"
          }
        },
        {
          "output_type": "stream",
          "name": "stdout",
          "text": [
            "image number: 14\n",
            "Prediction:  1\n",
            "Label:  1\n"
          ]
        },
        {
          "output_type": "display_data",
          "data": {
            "image/png": "[encoded data removed]",
            "text/plain": [
              "<Figure size 432x288 with 1 Axes>"
            ]
          },
          "metadata": {
            "needs_background": "light"
          }
        },
        {
          "output_type": "stream",
          "name": "stdout",
          "text": [
            "image number: 15\n",
            "Prediction:  5\n",
            "Label:  5\n"
          ]
        },
        {
          "output_type": "display_data",
          "data": {
            "image/png": "[encoded data removed]",
            "text/plain": [
              "<Figure size 432x288 with 1 Axes>"
            ]
          },
          "metadata": {
            "needs_background": "light"
          }
        },
        {
          "output_type": "stream",
          "name": "stdout",
          "text": [
            "image number: 16\n",
            "Prediction:  9\n",
            "Label:  9\n"
          ]
        },
        {
          "output_type": "display_data",
          "data": {
            "image/png": "[encoded data removed]",
            "text/plain": [
              "<Figure size 432x288 with 1 Axes>"
            ]
          },
          "metadata": {
            "needs_background": "light"
          }
        },
        {
          "output_type": "stream",
          "name": "stdout",
          "text": [
            "image number: 17\n",
            "Prediction:  7\n",
            "Label:  7\n"
          ]
        },
        {
          "output_type": "display_data",
          "data": {
            "image/png": "[encoded data removed]",
            "text/plain": [
              "<Figure size 432x288 with 1 Axes>"
            ]
          },
          "metadata": {
            "needs_background": "light"
          }
        },
        {
          "output_type": "stream",
          "name": "stdout",
          "text": [
            "image number: 18\n",
            "Prediction:  3\n",
            "Label:  3\n"
          ]
        },
        {
          "output_type": "display_data",
          "data": {
            "image/png": "[encoded data removed]",
            "text/plain": [
              "<Figure size 432x288 with 1 Axes>"
            ]
          },
          "metadata": {
            "needs_background": "light"
          }
        },
        {
          "output_type": "stream",
          "name": "stdout",
          "text": [
            "image number: 19\n",
            "Prediction:  4\n",
            "Label:  4\n"
          ]
        },
        {
          "output_type": "display_data",
          "data": {
            "image/png": "[encoded data removed]",
            "text/plain": [
              "<Figure size 432x288 with 1 Axes>"
            ]
          },
          "metadata": {
            "needs_background": "light"
          }
        },
        {
          "output_type": "stream",
          "name": "stdout",
          "text": [
            "image number: 20\n",
            "Prediction:  9\n",
            "Label:  9\n"
          ]
        },
        {
          "output_type": "display_data",
          "data": {
            "image/png": "[encoded data removed]",
            "text/plain": [
              "<Figure size 432x288 with 1 Axes>"
            ]
          },
          "metadata": {
            "needs_background": "light"
          }
        },
        {
          "output_type": "stream",
          "name": "stdout",
          "text": [
            "image number: 21\n",
            "Prediction:  6\n",
            "Label:  6\n"
          ]
        },
        {
          "output_type": "display_data",
          "data": {
            "image/png": "[encoded data removed]",
            "text/plain": [
              "<Figure size 432x288 with 1 Axes>"
            ]
          },
          "metadata": {
            "needs_background": "light"
          }
        },
        {
          "output_type": "stream",
          "name": "stdout",
          "text": [
            "image number: 22\n",
            "Prediction:  6\n",
            "Label:  6\n"
          ]
        },
        {
          "output_type": "display_data",
          "data": {
            "image/png": "[encoded data removed]",
            "text/plain": [
              "<Figure size 432x288 with 1 Axes>"
            ]
          },
          "metadata": {
            "needs_background": "light"
          }
        },
        {
          "output_type": "stream",
          "name": "stdout",
          "text": [
            "image number: 23\n",
            "Prediction:  5\n",
            "Label:  5\n"
          ]
        },
        {
          "output_type": "display_data",
          "data": {
            "image/png": "[encoded data removed]",
            "text/plain": [
              "<Figure size 432x288 with 1 Axes>"
            ]
          },
          "metadata": {
            "needs_background": "light"
          }
        },
        {
          "output_type": "stream",
          "name": "stdout",
          "text": [
            "image number: 24\n",
            "Prediction:  4\n",
            "Label:  4\n"
          ]
        },
        {
          "output_type": "display_data",
          "data": {
            "image/png": "[encoded data removed]",
            "text/plain": [
              "<Figure size 432x288 with 1 Axes>"
            ]
          },
          "metadata": {
            "needs_background": "light"
          }
        }
      ]
    },
    {
      "cell_type": "code",
      "source": [
        ""
      ],
      "metadata": {
        "id": "hijMvso9bVDa"
      },
      "execution_count": null,
      "outputs": []
    }
  ]
}